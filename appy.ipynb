{
 "cells": [
  {
   "cell_type": "code",
   "execution_count": null,
   "id": "38d5f2ba-9bc9-4573-a267-15aca709373e",
   "metadata": {},
   "outputs": [],
   "source": [
    "import tensorflow as tf\n",
    "from tensorflow import keras\n",
    "from tensorflow.keras import layers, models\n",
    "import os\n",
    "import numpy as np\n",
    "import cv2\n",
    "import matplotlib.pyplot as plt\n",
    "from tensorflow.keras.preprocessing.image import ImageDataGenerator\n",
    "from tensorflow.keras.applications import MobileNetV2\n",
    "from flask import Flask, request, render_template\n",
    "from werkzeug.utils import secure_filename"
   ]
  },
  {
   "cell_type": "code",
   "execution_count": null,
   "id": "ce7fb8b4-5286-4e10-8018-3f2db4b16e4d",
   "metadata": {},
   "outputs": [],
   "source": [
    "# Initialize Flask App\n",
    "app = Flask(__name__)\n",
    "app.config['UPLOAD_FOLDER'] = 'static/uploads'\n",
    "os.makedirs(app.config['UPLOAD_FOLDER'], exist_ok=True)"
   ]
  },
  {
   "cell_type": "code",
   "execution_count": null,
   "id": "89006429-357f-477e-94c8-2f6f7da0d80c",
   "metadata": {},
   "outputs": [],
   "source": [
    "# Dataset Path\n",
    "data_dir = r\"Medicinal plant dataset\"\n",
    "img_size = (224, 224)\n",
    "batch_size = 8"
   ]
  },
  {
   "cell_type": "code",
   "execution_count": null,
   "id": "dd134415-adf7-4082-98c2-25d3109180de",
   "metadata": {},
   "outputs": [],
   "source": [
    "# Load Pretrained Model Instead of Training Again\n",
    "model_path = \"best_model.h5\"\n",
    "\n",
    "if os.path.exists(model_path):\n",
    "    model = keras.models.load_model(model_path)  # ✅ Load trained model\n",
    "    print(\"✅ Model loaded successfully!\")\n",
    "else:\n",
    "    raise FileNotFoundError(f\"🚨 Model file '{model_path}' not found!\")"
   ]
  },
  {
   "cell_type": "code",
   "execution_count": null,
   "id": "200e00fe-fa0a-48bc-afcf-c505d023eeac",
   "metadata": {},
   "outputs": [],
   "source": [
    "# Plant Descriptions\n",
    "descriptions = {\n",
    "    \"Aloevera\": \"Known for its soothing gel, used to treat burns, wounds, and skin irritations.\",\n",
    "    \"Amla\": \"Rich in vitamin C, boosts immunity, and supports digestion.\",\n",
    "    \"Amruta_balli\": \"Used in Ayurveda for detoxification and treating diabetes.\",\n",
    "    \"Arali\": \"Traditionally used for skin infections and wound healing.\",\n",
    "    \"Ashoka\": \"Used in Ayurvedic medicine to treat menstrual disorders and improve skin health.\",\n",
    "    \"Ashwagandha\": \"Known as an adaptogen, it helps reduce stress and improve energy levels.\",\n",
    "    \"Avocado\": \"High in healthy fats, good for heart health and skin nourishment.\",\n",
    "    \"Bamboo\": \"Used in herbal remedies for joint pain and as an antioxidant.\",\n",
    "    \"Basale\": \"Rich in iron and vitamin C, used for healing wounds and treating anemia.\",\n",
    "    \"Betel\": \"Chewing betel leaves improves digestion and has antibacterial properties.\",\n",
    "    \"Betel_nut\": \"Used in traditional medicine for digestion and as a stimulant.\",\n",
    "    \"Brahmi\": \"Improves memory, cognitive function, and reduces anxiety.\",\n",
    "    \"Castor\": \"Used to make castor oil, which treats constipation and skin conditions.\",\n",
    "    \"Curry_leaf\": \"Enhances digestion, improves eyesight, and controls diabetes.\",\n",
    "    \"Doddapatre\": \"Used for treating colds, coughs, and digestive issues.\",\n",
    "    \"Ekka\": \"Used in traditional medicine for treating fever and respiratory issues.\",\n",
    "    \"Ganike\": \"Known for its anti-inflammatory properties and used for wound healing.\",\n",
    "    \"Gauva\": \"Rich in vitamin C, aids digestion, and boosts immunity.\",\n",
    "    \"Geranium\": \"Used in aromatherapy for stress relief and skin care.\",\n",
    "    \"Henna\": \"Known for its cooling effect, used as a natural dye and for scalp health.\",\n",
    "    \"Hibiscus\": \"Supports heart health, lowers blood pressure, and promotes hair growth.\",\n",
    "    \"Honge\": \"Used for oil extraction with medicinal benefits for joint pain.\",\n",
    "    \"Insulin\": \"Used in herbal medicine for managing diabetes and blood sugar levels.\",\n",
    "    \"Jasmine\": \"Known for its calming properties, used in aromatherapy and skincare.\",\n",
    "    \"Lemon\": \"Rich in vitamin C, aids digestion, and detoxifies the body.\",\n",
    "    \"Lemon_grass\": \"Used in tea for relaxation and improving digestion.\",\n",
    "    \"Mango\": \"Rich in antioxidants, promotes digestion, and supports skin health.\",\n",
    "    \"Mint\": \"Used for digestion, fresh breath, and cooling effects.\",\n",
    "    \"Nagadali\": \"Traditional medicinal plant used for treating fever and skin disorders.\",\n",
    "    \"Neem\": \"Known for its antibacterial properties, used for skin care and oral health.\",\n",
    "    \"Nithyapushpa\": \"Used for wound healing and anti-inflammatory benefits.\",\n",
    "    \"Nooni\": \"Supports immune health and is rich in antioxidants.\",\n",
    "    \"Pappaya\": \"Supports digestion with its enzyme papain, good for skin health.\",\n",
    "    \"Pepper\": \"Known for improving digestion and boosting metabolism.\",\n",
    "    \"Pomegranate\": \"Rich in antioxidants, supports heart health and skin glow.\",\n",
    "    \"Raktachandini\": \"Used in Ayurveda for treating skin diseases and detoxification.\",\n",
    "    \"Rose\": \"Used in skincare, aromatherapy, and for improving digestion.\",\n",
    "    \"Sapota\": \"High in fiber and good for digestion and immunity.\",\n",
    "    \"Tulasi\": \"Known for boosting immunity, treating colds, and respiratory issues.\",\n",
    "    \"Wood_sorel\": \"Used for its cooling effect and to treat urinary infections.\"\n",
    "}"
   ]
  },
  {
   "cell_type": "code",
   "execution_count": null,
   "id": "42c448f6-5964-4729-80e1-49fc3b9691bf",
   "metadata": {},
   "outputs": [],
   "source": [
    "# Data Augmentation & Preprocessing\n",
    "#datagen = ImageDataGenerator(\n",
    "#    rescale=1./255,\n",
    "#    rotation_range=20,\n",
    "#    width_shift_range=0.2,\n",
    "#    height_shift_range=0.2,\n",
    "#    horizontal_flip=True,\n",
    "#    validation_split=0.2  # 80% Train, 20% Validation\n",
    "#)"
   ]
  },
  {
   "cell_type": "code",
   "execution_count": null,
   "id": "47564313-9b33-49c9-bc63-47b7af658b49",
   "metadata": {},
   "outputs": [],
   "source": [
    "# Train & Validation Data Loaders\n",
    "#train_generator = datagen.flow_from_directory(\n",
    "#    data_dir,\n",
    "#    target_size=img_size,\n",
    "#    batch_size=batch_size,\n",
    "#    class_mode=\"sparse\",\n",
    "#    subset=\"training\"\n",
    "#)\n",
    "\n",
    "#val_generator = datagen.flow_from_directory(\n",
    "#    data_dir,\n",
    "#    target_size=img_size,\n",
    "#    batch_size=batch_size,\n",
    "#    class_mode=\"sparse\",\n",
    "#    subset=\"validation\"\n",
    "#)"
   ]
  },
  {
   "cell_type": "code",
   "execution_count": null,
   "id": "c2ed755b-f21c-4526-a638-a0cad4f6d512",
   "metadata": {},
   "outputs": [],
   "source": [
    "# Load Pretrained Model\n",
    "#base_model = MobileNetV2(weights='imagenet', include_top=False, input_shape=(224, 224, 3))"
   ]
  },
  {
   "cell_type": "code",
   "execution_count": null,
   "id": "ee92d103-3316-4c79-ae21-bb4f56007cfb",
   "metadata": {},
   "outputs": [],
   "source": [
    "# Unfreeze Last Few Layers\n",
    "#for layer in base_model.layers[-10:]:  # Unfreezing last 10 layers\n",
    " #   layer.trainable = True"
   ]
  },
  {
   "cell_type": "code",
   "execution_count": null,
   "id": "f107c2bf-a3ba-4f28-922b-95d517ebe7b1",
   "metadata": {},
   "outputs": [],
   "source": [
    "# Build Model\n",
    "#model = models.Sequential([\n",
    "#    base_model,\n",
    "#    layers.GlobalAveragePooling2D(),\n",
    "#    layers.Dense(128, activation='relu'),\n",
    "#    layers.Dropout(0.3),\n",
    "#    layers.Dense(train_generator.num_classes, activation='softmax')\n",
    "#])"
   ]
  },
  {
   "cell_type": "code",
   "execution_count": null,
   "id": "dd1f497d-4d44-47f7-9792-72c9ba5502bf",
   "metadata": {},
   "outputs": [],
   "source": [
    "# Compile Model with Slightly Higher Learning Rate\n",
    "#model.compile(optimizer=tf.keras.optimizers.Adam(learning_rate=0.0005),\n",
    "#              loss='sparse_categorical_crossentropy',\n",
    "#              metrics=['accuracy'])"
   ]
  },
  {
   "cell_type": "code",
   "execution_count": null,
   "id": "62662625-ee45-460a-aad0-65c707d89ea0",
   "metadata": {},
   "outputs": [],
   "source": [
    "# Train Model with Checkpoint\n",
    "checkpoint = tf.keras.callbacks.ModelCheckpoint(\"best_model.h5\", monitor=\"val_accuracy\", save_best_only=True)\n",
    "\n",
    "#history = model.fit(\n",
    "#    train_generator,\n",
    " #   validation_data=val_generator,\n",
    "#    epochs=15,\n",
    "#    callbacks=[checkpoint]\n",
    "#)"
   ]
  },
  {
   "cell_type": "code",
   "execution_count": null,
   "id": "fab8732c-c056-4316-a64a-a2106d6a88dd",
   "metadata": {},
   "outputs": [],
   "source": [
    "# Function to Predict from Uploaded Image\n",
    "def predict_plant(image_path):\n",
    "    img = cv2.imread(image_path)\n",
    "    img = cv2.resize(img, (224, 224))\n",
    "    img = img / 255.0\n",
    "    img = np.expand_dims(img, axis=0)  # Add batch dimension\n",
    "    prediction = model.predict(img)\n",
    "    class_index = np.argmax(prediction)\n",
    "    confidence = np.max(prediction)\n",
    "    \n",
    "    # Class labels (manually mapping based on dataset)\n",
    "    class_labels = [\"Aloevera\", \"Amla\", \"Amruta_balli\", \"Arali\", \"Ashoka\", \"Ashwagandha\", \"Avocado\", \"Bamboo\", \"Basale\", \"Betel\", \"Betel_nut\", \"Brahmi\", \"Castor\", \"Curry_leaf\", \"Doddapatre\", \"Ekka\", \"Ganike\", \"Gauva\", \"Geranium\", \"Henna\", \"Hibiscus\", \"Honge\", \"Insulin\", \"Jasmine\", \"Lemon\", \"Lemon_grass\", \"Mango\", \"Mint\", \"Nagadali\", \"Neem\", \"Nithyapushpa\", \"Nooni\", \"Pappaya\", \"Pepper\", \"Pomegranate\", \"Raktachandini\", \"Rose\", \"Sapota\", \"Tulasi\", \"Wood_sorel\"]\n",
    "    \n",
    "    plant_name = class_labels[class_index]\n",
    "    description = descriptions.get(plant_name, \"Description not available\")\n",
    "    return plant_name, confidence, description"
   ]
  },
  {
   "cell_type": "code",
   "execution_count": null,
   "id": "9f9ec53c-2198-41a8-ae08-fafe5a9d2a85",
   "metadata": {},
   "outputs": [],
   "source": [
    "# Flask Routes\n",
    "@app.route('/', methods=['GET', 'POST'])\n",
    "def upload_file():\n",
    "    plant, confidence, description = None, None, None  # Fix: Removed extra variable 'filename'\n",
    "    filename = None\n",
    "    if request.method == 'POST':\n",
    "        if 'file' not in request.files:\n",
    "            return render_template('index.html', plant=None)\n",
    "        file = request.files['file']\n",
    "        if file.filename == '':\n",
    "            return render_template('index.html', plant=None)\n",
    "        if file:\n",
    "            filename = secure_filename(file.filename)\n",
    "            filepath = os.path.join(app.config['UPLOAD_FOLDER'], filename)\n",
    "            file.save(filepath)\n",
    "            plant, confidence, description = predict_plant(filepath)\n",
    "    return render_template('index.html', plant=plant, confidence=confidence, description=description, image=filename)\n",
    "\n",
    "if __name__ == '__main__':\n",
    "    app.run(debug=True)"
   ]
  },
  {
   "cell_type": "code",
   "execution_count": null,
   "id": "2e3ef085-ea84-4dca-a241-0ebac84b1443",
   "metadata": {},
   "outputs": [],
   "source": [
    "import os\n",
    "print(os.path.exists(\"best_model.h5\"))"
   ]
  },
  {
   "cell_type": "code",
   "execution_count": null,
   "id": "24fec945-7e39-4777-8c05-a42902e4ee11",
   "metadata": {},
   "outputs": [],
   "source": []
  }
 ],
 "metadata": {
  "kernelspec": {
   "display_name": "Python (Python3119)",
   "language": "python",
   "name": "your_env_name"
  },
  "language_info": {
   "codemirror_mode": {
    "name": "ipython",
    "version": 3
   },
   "file_extension": ".py",
   "mimetype": "text/x-python",
   "name": "python",
   "nbconvert_exporter": "python",
   "pygments_lexer": "ipython3",
   "version": "3.12.4"
  }
 },
 "nbformat": 4,
 "nbformat_minor": 5
}
